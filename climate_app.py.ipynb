{
 "cells": [
  {
   "cell_type": "code",
   "execution_count": null,
   "metadata": {},
   "outputs": [],
   "source": [
    "import numpy as np\n",
    "import sqlalchemy\n",
    "from sqlalchemy.ext.automap import automap_base\n",
    "from sqlalchemy.orm import Session\n",
    "from sqlalchemy import create_engine, func\n",
    "from flask import Flask, jsonify"
   ]
  },
  {
   "cell_type": "code",
   "execution_count": null,
   "metadata": {},
   "outputs": [],
   "source": [
    "engine = create_engine(\"sqlite:///Resources/hawaii.sqlite\")\n",
    "Base = automap_base() \n",
    "Base.prepare(engine, reflect=True)\n",
    "Base.classes.keys()"
   ]
  },
  {
   "cell_type": "code",
   "execution_count": null,
   "metadata": {},
   "outputs": [],
   "source": [
    "measurement = Base.classes.measurement\n",
    "station = Base.classes.station\n",
    "session = Session(engine)"
   ]
  },
  {
   "cell_type": "code",
   "execution_count": null,
   "metadata": {},
   "outputs": [],
   "source": [
    "app = Flask(__name__)"
   ]
  },
  {
   "cell_type": "code",
   "execution_count": null,
   "metadata": {},
   "outputs": [],
   "source": [
    "@app.route(\"/\")\n",
    "def welcome():\n",
    "    \"\"\"List all available api routes.\"\"\"\n",
    "    return (\n",
    "        f\"Available Routes:<br/>\"\n",
    "        f\"/api/v1.0/precipitation<br/>\"\n",
    "        f\"/api/v1.0/stations<br/>\"\n",
    "        f\"/api/v1.0/<start>\"\n",
    "        f\"/api/v1.0/<start>/<end>\"\n",
    "    )"
   ]
  },
  {
   "cell_type": "code",
   "execution_count": null,
   "metadata": {},
   "outputs": [],
   "source": [
    "@app.route(\"/api/v1.0/precipitation\")\n",
    "def precipitation():\n",
    "    session = Session(engine)\n",
    "    results = session.query(measurement.date, measurement.prcp).all()\n",
    "    session.close()\n",
    "    \n",
    "    all_precipitation = []\n",
    "    for date, prcp in results:\n",
    "        precipitation_dict = {}\n",
    "        precipitation_dict[\"Date\"] = date\n",
    "        precipitation_dict[\"Precipitation\"] = prcp\n",
    "        all_precipitation.append(precipitation_dict)\n",
    "\n",
    "    return jsonify(all_precipitation)"
   ]
  },
  {
   "cell_type": "code",
   "execution_count": null,
   "metadata": {},
   "outputs": [],
   "source": [
    "@app.route(\"/api/v1.0/stations\")\n",
    "def stations():\n",
    "    session = Session(engine)\n",
    "    results = session.query(measurement.station).all()\n",
    "    session.close()\n",
    "    all_stations = list(np.ravel(results))\n",
    "    return jsonify(all_stations)"
   ]
  },
  {
   "cell_type": "code",
   "execution_count": null,
   "metadata": {},
   "outputs": [],
   "source": [
    "@app.route(\"/api/v1.0/tobs\")\n",
    "def tobs():\n",
    "    session = Session(engine)\n",
    "    results = session.query(measurement.date, measurement.tobs).\\\n",
    "        filter(measurement.station == 'USC00519281').\\\n",
    "        filter(measurement.date <= '2017-08-23').\\\n",
    "        filter(measurement.date >= '2016-08-24').all()\n",
    "    session.close()\n",
    "    \n",
    "    all_tobs = []\n",
    "    for date, tobs in results:\n",
    "        tobs_dict = {}\n",
    "        tobs['Date'] = date\n",
    "        tobs['Temperature'] = tobs\n",
    "        all_tobs.append(tobs_dict)\n",
    "    \n",
    "    return jsonify(all_tobs)"
   ]
  },
  {
   "cell_type": "code",
   "execution_count": null,
   "metadata": {},
   "outputs": [],
   "source": [
    "@app.route(\"/api/v1.0/bydate/<start_date>\")\n",
    "def bydate(start_date):\n",
    "    start_date= datetime.strptime('%Y-%m-%d')\n",
    "    session = Session(engine)\n",
    "    results = session.query(func.min(measurement.tobs), func.max(measurement.tobs), func.avg(measurement.tobs)).\\\n",
    "        filter(start_date <= '2017-08-23').all()\n",
    "    session.close()\n",
    "    after_date = list(np.ravel(results))\n",
    "    return jsonify(after_date)"
   ]
  },
  {
   "cell_type": "code",
   "execution_count": null,
   "metadata": {},
   "outputs": [],
   "source": [
    "@app.route(\"/api/v1.0/bydate/<start_date>/<end_date>\")\n",
    "def bydates(start_date, end_date):\n",
    "    start_date= datetime.strptime('%Y-%m-%d')\n",
    "    end_date= datetime.strptime('%Y-%m-%d')\n",
    "    session = Session(engine)\n",
    "    results = session.query(func.min(measurement.tobs), func.max(measurement.tobs), func.avg(measurement.tobs)).\\\n",
    "        filter(start_date <= '2017-08-23').\\\n",
    "        filter(end_date >= '2016-08-24').all()\n",
    "    session.close()\n",
    "    btwn_dates = list(np.ravel(results))\n",
    "    return jsonify(btwn_dates)"
   ]
  },
  {
   "cell_type": "code",
   "execution_count": null,
   "metadata": {},
   "outputs": [],
   "source": [
    "if __name__ == '__main__':\n",
    "    app.run(debug=True, use_reloader=False)"
   ]
  }
 ],
 "metadata": {
  "kernelspec": {
   "display_name": "Python 3",
   "language": "python",
   "name": "python3"
  },
  "language_info": {
   "codemirror_mode": {
    "name": "ipython",
    "version": 3
   },
   "file_extension": ".py",
   "mimetype": "text/x-python",
   "name": "python",
   "nbconvert_exporter": "python",
   "pygments_lexer": "ipython3",
   "version": "3.7.4"
  }
 },
 "nbformat": 4,
 "nbformat_minor": 2
}
